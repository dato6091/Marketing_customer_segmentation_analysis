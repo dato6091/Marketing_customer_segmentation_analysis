{
 "cells": [
  {
   "cell_type": "code",
   "execution_count": 1,
   "id": "04137ea5",
   "metadata": {},
   "outputs": [],
   "source": [
    "import pandas as pd\n",
    "import numpy as np\n",
    "import matplotlib.pyplot as plt\n",
    "import seaborn as sns\n",
    "sns.set()\n",
    "from sklearn.preprocessing import StandardScaler\n",
    "from scipy.cluster.hierarchy import dendrogram, linkage\n",
    "from sklearn.cluster import KMeans\n",
    "from sklearn.decomposition import PCA"
   ]
  },
  {
   "cell_type": "code",
   "execution_count": 2,
   "id": "f5f4ac3b",
   "metadata": {},
   "outputs": [
    {
     "data": {
      "text/html": [
       "<div>\n",
       "<style scoped>\n",
       "    .dataframe tbody tr th:only-of-type {\n",
       "        vertical-align: middle;\n",
       "    }\n",
       "\n",
       "    .dataframe tbody tr th {\n",
       "        vertical-align: top;\n",
       "    }\n",
       "\n",
       "    .dataframe thead th {\n",
       "        text-align: right;\n",
       "    }\n",
       "</style>\n",
       "<table border=\"1\" class=\"dataframe\">\n",
       "  <thead>\n",
       "    <tr style=\"text-align: right;\">\n",
       "      <th></th>\n",
       "      <th>minutes_watched</th>\n",
       "      <th>clv</th>\n",
       "      <th>region_western_europe</th>\n",
       "      <th>region_anglosphere</th>\n",
       "      <th>region_rest</th>\n",
       "      <th>channel_facebook</th>\n",
       "      <th>channel_friend</th>\n",
       "      <th>channel_google</th>\n",
       "      <th>channel_instagram</th>\n",
       "      <th>channel_linkedin</th>\n",
       "      <th>channel_other</th>\n",
       "      <th>channel_twitter</th>\n",
       "      <th>channel_youtube</th>\n",
       "    </tr>\n",
       "  </thead>\n",
       "  <tbody>\n",
       "    <tr>\n",
       "      <th>0</th>\n",
       "      <td>3197.0</td>\n",
       "      <td>205.42</td>\n",
       "      <td>0</td>\n",
       "      <td>0</td>\n",
       "      <td>1</td>\n",
       "      <td>0</td>\n",
       "      <td>0</td>\n",
       "      <td>0</td>\n",
       "      <td>0</td>\n",
       "      <td>1</td>\n",
       "      <td>0</td>\n",
       "      <td>0</td>\n",
       "      <td>0</td>\n",
       "    </tr>\n",
       "    <tr>\n",
       "      <th>1</th>\n",
       "      <td>63.0</td>\n",
       "      <td>149.99</td>\n",
       "      <td>0</td>\n",
       "      <td>1</td>\n",
       "      <td>0</td>\n",
       "      <td>0</td>\n",
       "      <td>0</td>\n",
       "      <td>1</td>\n",
       "      <td>0</td>\n",
       "      <td>0</td>\n",
       "      <td>0</td>\n",
       "      <td>0</td>\n",
       "      <td>0</td>\n",
       "    </tr>\n",
       "    <tr>\n",
       "      <th>2</th>\n",
       "      <td>605.0</td>\n",
       "      <td>119.00</td>\n",
       "      <td>0</td>\n",
       "      <td>0</td>\n",
       "      <td>1</td>\n",
       "      <td>1</td>\n",
       "      <td>0</td>\n",
       "      <td>0</td>\n",
       "      <td>0</td>\n",
       "      <td>0</td>\n",
       "      <td>0</td>\n",
       "      <td>0</td>\n",
       "      <td>0</td>\n",
       "    </tr>\n",
       "    <tr>\n",
       "      <th>3</th>\n",
       "      <td>20.0</td>\n",
       "      <td>240.00</td>\n",
       "      <td>0</td>\n",
       "      <td>0</td>\n",
       "      <td>1</td>\n",
       "      <td>0</td>\n",
       "      <td>0</td>\n",
       "      <td>0</td>\n",
       "      <td>0</td>\n",
       "      <td>1</td>\n",
       "      <td>0</td>\n",
       "      <td>0</td>\n",
       "      <td>0</td>\n",
       "    </tr>\n",
       "    <tr>\n",
       "      <th>4</th>\n",
       "      <td>245.0</td>\n",
       "      <td>184.36</td>\n",
       "      <td>1</td>\n",
       "      <td>0</td>\n",
       "      <td>0</td>\n",
       "      <td>0</td>\n",
       "      <td>0</td>\n",
       "      <td>0</td>\n",
       "      <td>0</td>\n",
       "      <td>1</td>\n",
       "      <td>0</td>\n",
       "      <td>0</td>\n",
       "      <td>0</td>\n",
       "    </tr>\n",
       "  </tbody>\n",
       "</table>\n",
       "</div>"
      ],
      "text/plain": [
       "   minutes_watched     clv  region_western_europe  region_anglosphere  \\\n",
       "0           3197.0  205.42                      0                   0   \n",
       "1             63.0  149.99                      0                   1   \n",
       "2            605.0  119.00                      0                   0   \n",
       "3             20.0  240.00                      0                   0   \n",
       "4            245.0  184.36                      1                   0   \n",
       "\n",
       "   region_rest  channel_facebook  channel_friend  channel_google  \\\n",
       "0            1                 0               0               0   \n",
       "1            0                 0               0               1   \n",
       "2            1                 1               0               0   \n",
       "3            1                 0               0               0   \n",
       "4            0                 0               0               0   \n",
       "\n",
       "   channel_instagram  channel_linkedin  channel_other  channel_twitter  \\\n",
       "0                  0                 1              0                0   \n",
       "1                  0                 0              0                0   \n",
       "2                  0                 0              0                0   \n",
       "3                  0                 1              0                0   \n",
       "4                  0                 1              0                0   \n",
       "\n",
       "   channel_youtube  \n",
       "0                0  \n",
       "1                0  \n",
       "2                0  \n",
       "3                0  \n",
       "4                0  "
      ]
     },
     "execution_count": 2,
     "metadata": {},
     "output_type": "execute_result"
    }
   ],
   "source": [
    "df = pd.read_csv(\"customer_segmentation_data_clean.csv\")\n",
    "df.head()"
   ]
  },
  {
   "cell_type": "markdown",
   "id": "0a448150",
   "metadata": {},
   "source": [
    "# Data Standardization\n",
    "\n",
    "Prior the hierarchical clustering and k-means, we need to standardize the data. Without it, our results would be unrealible and skewed, specially considering the difference in magnitude regarding minutes watched versus CLV. "
   ]
  },
  {
   "cell_type": "code",
   "execution_count": 4,
   "id": "8d2817d8",
   "metadata": {},
   "outputs": [],
   "source": [
    "cols_to_std = [\"minutes_watched\", \"clv\"]\n",
    "scaler = StandardScaler()\n",
    "df_scaled = scaler.fit_transform(df[cols_to_std])"
   ]
  },
  {
   "cell_type": "code",
   "execution_count": 6,
   "id": "9c773e13",
   "metadata": {},
   "outputs": [
    {
     "data": {
      "text/html": [
       "<div>\n",
       "<style scoped>\n",
       "    .dataframe tbody tr th:only-of-type {\n",
       "        vertical-align: middle;\n",
       "    }\n",
       "\n",
       "    .dataframe tbody tr th {\n",
       "        vertical-align: top;\n",
       "    }\n",
       "\n",
       "    .dataframe thead th {\n",
       "        text-align: right;\n",
       "    }\n",
       "</style>\n",
       "<table border=\"1\" class=\"dataframe\">\n",
       "  <thead>\n",
       "    <tr style=\"text-align: right;\">\n",
       "      <th></th>\n",
       "      <th>minutes_watched</th>\n",
       "      <th>clv</th>\n",
       "      <th>region_western_europe</th>\n",
       "      <th>region_anglosphere</th>\n",
       "      <th>region_rest</th>\n",
       "      <th>channel_facebook</th>\n",
       "      <th>channel_friend</th>\n",
       "      <th>channel_google</th>\n",
       "      <th>channel_instagram</th>\n",
       "      <th>channel_linkedin</th>\n",
       "      <th>channel_other</th>\n",
       "      <th>channel_twitter</th>\n",
       "      <th>channel_youtube</th>\n",
       "    </tr>\n",
       "  </thead>\n",
       "  <tbody>\n",
       "    <tr>\n",
       "      <th>0</th>\n",
       "      <td>0.240037</td>\n",
       "      <td>1.234976</td>\n",
       "      <td>0</td>\n",
       "      <td>0</td>\n",
       "      <td>1</td>\n",
       "      <td>0</td>\n",
       "      <td>0</td>\n",
       "      <td>0</td>\n",
       "      <td>0</td>\n",
       "      <td>1</td>\n",
       "      <td>0</td>\n",
       "      <td>0</td>\n",
       "      <td>0</td>\n",
       "    </tr>\n",
       "    <tr>\n",
       "      <th>1</th>\n",
       "      <td>-0.314844</td>\n",
       "      <td>0.448268</td>\n",
       "      <td>0</td>\n",
       "      <td>1</td>\n",
       "      <td>0</td>\n",
       "      <td>0</td>\n",
       "      <td>0</td>\n",
       "      <td>1</td>\n",
       "      <td>0</td>\n",
       "      <td>0</td>\n",
       "      <td>0</td>\n",
       "      <td>0</td>\n",
       "      <td>0</td>\n",
       "    </tr>\n",
       "    <tr>\n",
       "      <th>2</th>\n",
       "      <td>-0.218882</td>\n",
       "      <td>0.008432</td>\n",
       "      <td>0</td>\n",
       "      <td>0</td>\n",
       "      <td>1</td>\n",
       "      <td>1</td>\n",
       "      <td>0</td>\n",
       "      <td>0</td>\n",
       "      <td>0</td>\n",
       "      <td>0</td>\n",
       "      <td>0</td>\n",
       "      <td>0</td>\n",
       "      <td>0</td>\n",
       "    </tr>\n",
       "    <tr>\n",
       "      <th>3</th>\n",
       "      <td>-0.322457</td>\n",
       "      <td>1.725764</td>\n",
       "      <td>0</td>\n",
       "      <td>0</td>\n",
       "      <td>1</td>\n",
       "      <td>0</td>\n",
       "      <td>0</td>\n",
       "      <td>0</td>\n",
       "      <td>0</td>\n",
       "      <td>1</td>\n",
       "      <td>0</td>\n",
       "      <td>0</td>\n",
       "      <td>0</td>\n",
       "    </tr>\n",
       "    <tr>\n",
       "      <th>4</th>\n",
       "      <td>-0.282621</td>\n",
       "      <td>0.936075</td>\n",
       "      <td>1</td>\n",
       "      <td>0</td>\n",
       "      <td>0</td>\n",
       "      <td>0</td>\n",
       "      <td>0</td>\n",
       "      <td>0</td>\n",
       "      <td>0</td>\n",
       "      <td>1</td>\n",
       "      <td>0</td>\n",
       "      <td>0</td>\n",
       "      <td>0</td>\n",
       "    </tr>\n",
       "  </tbody>\n",
       "</table>\n",
       "</div>"
      ],
      "text/plain": [
       "   minutes_watched       clv  region_western_europe  region_anglosphere  \\\n",
       "0         0.240037  1.234976                      0                   0   \n",
       "1        -0.314844  0.448268                      0                   1   \n",
       "2        -0.218882  0.008432                      0                   0   \n",
       "3        -0.322457  1.725764                      0                   0   \n",
       "4        -0.282621  0.936075                      1                   0   \n",
       "\n",
       "   region_rest  channel_facebook  channel_friend  channel_google  \\\n",
       "0            1                 0               0               0   \n",
       "1            0                 0               0               1   \n",
       "2            1                 1               0               0   \n",
       "3            1                 0               0               0   \n",
       "4            0                 0               0               0   \n",
       "\n",
       "   channel_instagram  channel_linkedin  channel_other  channel_twitter  \\\n",
       "0                  0                 1              0                0   \n",
       "1                  0                 0              0                0   \n",
       "2                  0                 0              0                0   \n",
       "3                  0                 1              0                0   \n",
       "4                  0                 1              0                0   \n",
       "\n",
       "   channel_youtube  \n",
       "0                0  \n",
       "1                0  \n",
       "2                0  \n",
       "3                0  \n",
       "4                0  "
      ]
     },
     "execution_count": 6,
     "metadata": {},
     "output_type": "execute_result"
    }
   ],
   "source": [
    "df_scaled = pd.DataFrame(\n",
    "    data=df_scaled, \n",
    "    columns=cols_to_std\n",
    ")\n",
    "df_scaled = pd.concat([df_scaled, df[[col for col in df if col not in cols_to_std]]], axis=1)\n",
    "df_scaled.head()"
   ]
  },
  {
   "cell_type": "markdown",
   "id": "ab9c81d5",
   "metadata": {},
   "source": [
    "# Hierarchical clustering\n",
    "\n",
    "After the data standardization is complete, we can finally utilize clustering the data. Let's start by using the `Ward` method. "
   ]
  },
  {
   "cell_type": "code",
   "execution_count": 7,
   "id": "3f083c1f",
   "metadata": {},
   "outputs": [],
   "source": [
    "hier_clust = linkage(df_scaled, method='ward')"
   ]
  },
  {
   "cell_type": "code",
   "execution_count": 10,
   "id": "9e6713af",
   "metadata": {},
   "outputs": [
    {
     "data": {
      "image/png": "[encoded data removed]",
      "text/plain": [
       "<Figure size 1200x900 with 1 Axes>"
      ]
     },
     "metadata": {},
     "output_type": "display_data"
    }
   ],
   "source": [
    "plt.figure(figsize=(12,9))\n",
    "plt.title(\"Hierarchical Clustering Dendrogram\")\n",
    "plt.xlabel(\"Observations\")\n",
    "plt.ylabel(\"Distance\")\n",
    "dendrogram(hier_clust, truncate_mode=\"level\", p=5, show_leaf_counts=False, no_labels=True)\n",
    "plt.show()"
   ]
  },
  {
   "cell_type": "markdown",
   "id": "94ee053d",
   "metadata": {},
   "source": [
    "The result of the algorithm points to 4 separate clusters."
   ]
  },
  {
   "cell_type": "markdown",
   "id": "4736c408",
   "metadata": {},
   "source": [
    "# K-Means Clustering\n",
    "\n",
    "Now let's try with the K-means clustering algorithm, we'll perform an iteration with 10 steps, utilizing k-means++ as the initializer."
   ]
  },
  {
   "cell_type": "code",
   "execution_count": 11,
   "id": "010eb6f0",
   "metadata": {},
   "outputs": [],
   "source": [
    "wcss = []\n",
    "\n",
    "for i in range(1, 11):\n",
    "    kmeans = KMeans(n_clusters=i,\n",
    "                    init=\"k-means++\",\n",
    "                    random_state=42)\n",
    "\n",
    "    kmeans.fit(df_scaled)\n",
    "    wcss.append(kmeans.inertia_)"
   ]
  },
  {
   "cell_type": "markdown",
   "id": "9c66bf40",
   "metadata": {},
   "source": [
    "Plot the results to see if the elbow can be spotted:"
   ]
  },
  {
   "cell_type": "code",
   "execution_count": 12,
   "id": "c6c803d3",
   "metadata": {},
   "outputs": [
    {
     "data": {
      "image/png": "[encoded data removed]",
      "text/plain": [
       "<Figure size 1000x800 with 1 Axes>"
      ]
     },
     "metadata": {},
     "output_type": "display_data"
    }
   ],
   "source": [
    "plt.figure(figsize=(10,8))\n",
    "plt.plot(range(1, 11), wcss, marker=\"o\", linestyle=\"--\")\n",
    "plt.xlabel(\"Number of Clusters\")\n",
    "plt.ylabel(\"WCSS\")\n",
    "plt.title(\"K-Means Clustering\")\n",
    "plt.show()"
   ]
  },
  {
   "cell_type": "markdown",
   "id": "68bd37b5",
   "metadata": {},
   "source": [
    "The elbow is around **k = 3** (or 4). The drop in WCSS is steep from 1 to 3 and then flattens; gains beyond 4 are small.\n",
    "\n",
    "Since both methods lead to around 4 clusters, this is the number we will use looking forward."
   ]
  },
  {
   "cell_type": "code",
   "execution_count": null,
   "id": "c483db76",
   "metadata": {},
   "outputs": [],
   "source": []
  }
 ],
 "metadata": {
  "kernelspec": {
   "display_name": "customer-segmentation-in-marketing-with-python-py3.12",
   "language": "python",
   "name": "python3"
  },
  "language_info": {
   "codemirror_mode": {
    "name": "ipython",
    "version": 3
   },
   "file_extension": ".py",
   "mimetype": "text/x-python",
   "name": "python",
   "nbconvert_exporter": "python",
   "pygments_lexer": "ipython3",
   "version": "3.12.9"
  }
 },
 "nbformat": 4,
 "nbformat_minor": 5
}
